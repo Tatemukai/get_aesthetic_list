{
 "cells": [
  {
   "cell_type": "code",
   "execution_count": 34,
   "metadata": {},
   "outputs": [],
   "source": [
    "import gspread\n",
    "import pandas as pd\n",
    "\n",
    "import numpy as np\n",
    "import time\n",
    "import re\n",
    "import json\n",
    "import csv\n",
    "import math\n",
    "\n",
    "from gspread_dataframe import set_with_dataframe\n",
    "from selenium import webdriver\n",
    "from pandas import DataFrame as df\n",
    "\n",
    "import setting\n",
    "\n",
    "\n",
    "from selenium.webdriver.common.keys import Keys\n",
    "from selenium.webdriver.common.action_chains import ActionChains\n",
    "from selenium.webdriver.support.select import Select\n",
    "from google.oauth2.service_account import Credentials\n",
    "from webdriver_manager.chrome import ChromeDriverManager\n"
   ]
  },
  {
   "cell_type": "code",
   "execution_count": 29,
   "metadata": {},
   "outputs": [],
   "source": [
    "with open('setting.json') as f:\n",
    "    df = json.load(f)\n",
    "    SPREADSHEET_KEY = df['KANAGAWA_SPREADSHEET_KEY']\n",
    "    SECRET_KEY_PATH = df['SECRET_KEY_PATH']\n",
    "\n",
    "scope = ['https://www.googleapis.com/auth/spreadsheets',\n",
    "            'https://www.googleapis.com/auth/drive']\n",
    "credentials = Credentials.from_service_account_file(\n",
    "    SECRET_KEY_PATH, scopes=scope)\n",
    "gc = gspread.authorize(credentials)\n",
    "workbook = gc.open_by_key(SPREADSHEET_KEY)"
   ]
  },
  {
   "cell_type": "code",
   "execution_count": 30,
   "metadata": {},
   "outputs": [
    {
     "name": "stderr",
     "output_type": "stream",
     "text": [
      "\n",
      "\n",
      "====== WebDriver manager ======\n",
      "Current google-chrome version is 102.0.5005\n",
      "Get LATEST chromedriver version for 102.0.5005 google-chrome\n",
      "Trying to download new driver from https://chromedriver.storage.googleapis.com/102.0.5005.61/chromedriver_mac64.zip\n",
      "Driver has been saved in cache [/Users/tatemukaiyuki/.wdm/drivers/chromedriver/mac64/102.0.5005.61]\n"
     ]
    }
   ],
   "source": [
    "driver = webdriver.Chrome(ChromeDriverManager().install())\n"
   ]
  },
  {
   "cell_type": "code",
   "execution_count": null,
   "metadata": {},
   "outputs": [],
   "source": [
    "def get_list(i):\n",
    "    URL =  'https://beauty.hotpepper.jp/esthe/svcSA/macJP/salon/PN'+ str(i) +'.html?searchGender=ALL'\n",
    "    driver.get(url)"
   ]
  },
  {
   "cell_type": "code",
   "execution_count": null,
   "metadata": {},
   "outputs": [],
   "source": [
    "def main():\n",
    "    url = 'https://beauty.hotpepper.jp/esthe/svcSA/macAU/salon/'\n",
    "    driver.get(url)\n",
    "\n",
    "    total_items = driver.find_element_by_css_selector('.numberOfResult').text\n",
    "    \n",
    "    page_nums = math.ceil(int(total_items) / 20)\n",
    "    \n",
    "    print(total_items + '件取得します')\n",
    "    print(page_nums + 'ページ')\n",
    "    \n",
    "    df_list = []\n",
    "    for i in range(1, page_nums+1):\n",
    "        \n",
    "        href_list, title_list = get_list(i)\n",
    "        \n",
    "        df = pd.DataFrame({\n",
    "            '店名':title_list,\n",
    "            'URL':href_list\n",
    "        })\n",
    "        df_list.append(df)\n",
    "        \n",
    "    df_concat = pd.concat(df_list).reset_index(drop = True)\n",
    "    \n",
    "    with open('dataframe.pickle', 'wb') as f:\n",
    "        pickle.dump(df_concat, f)\n",
    "    \n",
    "    #スプレッドシートに書く\n",
    "    sheet_name = '両国・錦糸町・小岩・森下・瑞江'\n",
    "    gc = Spreadsheet(sheet_name, title='HOTPEPPER')\n",
    "    gc.update_sheet(df_concat)\n",
    "    \n",
    "    wd.driver.quit()\n",
    "    print('終了')"
   ]
  },
  {
   "cell_type": "code",
   "execution_count": 35,
   "metadata": {},
   "outputs": [],
   "source": [
    "#debug\n",
    "\n",
    "url = 'https://beauty.hotpepper.jp/esthe/svcSA/macAU/salon/'\n",
    "driver.get(url)\n",
    "\n",
    "total_items = driver.find_element_by_css_selector('.numberOfResult').text\n",
    "page_nums = math.ceil(int(total_items) / 20)"
   ]
  },
  {
   "cell_type": "code",
   "execution_count": 39,
   "metadata": {},
   "outputs": [],
   "source": [
    "title_list = [\"あ\", \"い\",\"う\", \"え\",\"お\"]\n",
    "href_list = [\"a\", \"i\",\"u\", \"e\",\"o\"]\n",
    "\n",
    "df = pd.DataFrame({\n",
    "    '店名':title_list,\n",
    "    'URL':href_list\n",
    "})"
   ]
  },
  {
   "cell_type": "code",
   "execution_count": 40,
   "metadata": {},
   "outputs": [
    {
     "data": {
      "text/html": [
       "<div>\n",
       "<style scoped>\n",
       "    .dataframe tbody tr th:only-of-type {\n",
       "        vertical-align: middle;\n",
       "    }\n",
       "\n",
       "    .dataframe tbody tr th {\n",
       "        vertical-align: top;\n",
       "    }\n",
       "\n",
       "    .dataframe thead th {\n",
       "        text-align: right;\n",
       "    }\n",
       "</style>\n",
       "<table border=\"1\" class=\"dataframe\">\n",
       "  <thead>\n",
       "    <tr style=\"text-align: right;\">\n",
       "      <th></th>\n",
       "      <th>店名</th>\n",
       "      <th>URL</th>\n",
       "    </tr>\n",
       "  </thead>\n",
       "  <tbody>\n",
       "    <tr>\n",
       "      <th>0</th>\n",
       "      <td>あ</td>\n",
       "      <td>a</td>\n",
       "    </tr>\n",
       "    <tr>\n",
       "      <th>1</th>\n",
       "      <td>い</td>\n",
       "      <td>i</td>\n",
       "    </tr>\n",
       "    <tr>\n",
       "      <th>2</th>\n",
       "      <td>う</td>\n",
       "      <td>u</td>\n",
       "    </tr>\n",
       "    <tr>\n",
       "      <th>3</th>\n",
       "      <td>え</td>\n",
       "      <td>e</td>\n",
       "    </tr>\n",
       "    <tr>\n",
       "      <th>4</th>\n",
       "      <td>お</td>\n",
       "      <td>o</td>\n",
       "    </tr>\n",
       "  </tbody>\n",
       "</table>\n",
       "</div>"
      ],
      "text/plain": [
       "  店名 URL\n",
       "0  あ   a\n",
       "1  い   i\n",
       "2  う   u\n",
       "3  え   e\n",
       "4  お   o"
      ]
     },
     "execution_count": 40,
     "metadata": {},
     "output_type": "execute_result"
    }
   ],
   "source": [
    "df"
   ]
  },
  {
   "cell_type": "code",
   "execution_count": null,
   "metadata": {},
   "outputs": [],
   "source": []
  }
 ],
 "metadata": {
  "interpreter": {
   "hash": "aee8b7b246df8f9039afb4144a1f6fd8d2ca17a180786b69acc140d282b71a49"
  },
  "kernelspec": {
   "display_name": "Python 3.9.9 64-bit",
   "language": "python",
   "name": "python3"
  },
  "language_info": {
   "codemirror_mode": {
    "name": "ipython",
    "version": 3
   },
   "file_extension": ".py",
   "mimetype": "text/x-python",
   "name": "python",
   "nbconvert_exporter": "python",
   "pygments_lexer": "ipython3",
   "version": "3.9.9"
  },
  "orig_nbformat": 4
 },
 "nbformat": 4,
 "nbformat_minor": 2
}
