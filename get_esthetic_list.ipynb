{
 "cells": [
  {
   "cell_type": "code",
   "execution_count": 28,
   "metadata": {},
   "outputs": [],
   "source": [
    "import gspread\n",
    "import pandas as pd\n",
    "\n",
    "import numpy as np\n",
    "import time\n",
    "import re\n",
    "import json\n",
    "import csv\n",
    "\n",
    "from gspread_dataframe import set_with_dataframe\n",
    "from selenium import webdriver\n",
    "from pandas import DataFrame as df\n",
    "\n",
    "import setting\n",
    "\n",
    "from selenium.webdriver.common.keys import Keys\n",
    "from selenium.webdriver.common.action_chains import ActionChains\n",
    "from selenium.webdriver.support.select import Select\n",
    "from google.oauth2.service_account import Credentials\n",
    "from webdriver_manager.chrome import ChromeDriverManager\n"
   ]
  },
  {
   "cell_type": "code",
   "execution_count": 29,
   "metadata": {},
   "outputs": [],
   "source": [
    "with open('setting.json') as f:\n",
    "    df = json.load(f)\n",
    "    SPREADSHEET_KEY = df['KANAGAWA_SPREADSHEET_KEY']\n",
    "    SECRET_KEY_PATH = df['SECRET_KEY_PATH']\n",
    "\n",
    "scope = ['https://www.googleapis.com/auth/spreadsheets',\n",
    "            'https://www.googleapis.com/auth/drive']\n",
    "credentials = Credentials.from_service_account_file(\n",
    "    SECRET_KEY_PATH, scopes=scope)\n",
    "gc = gspread.authorize(credentials)\n",
    "workbook = gc.open_by_key(SPREADSHEET_KEY)"
   ]
  },
  {
   "cell_type": "code",
   "execution_count": null,
   "metadata": {},
   "outputs": [],
   "source": []
  }
 ],
 "metadata": {
  "interpreter": {
   "hash": "aee8b7b246df8f9039afb4144a1f6fd8d2ca17a180786b69acc140d282b71a49"
  },
  "kernelspec": {
   "display_name": "Python 3.9.9 64-bit",
   "language": "python",
   "name": "python3"
  },
  "language_info": {
   "codemirror_mode": {
    "name": "ipython",
    "version": 3
   },
   "file_extension": ".py",
   "mimetype": "text/x-python",
   "name": "python",
   "nbconvert_exporter": "python",
   "pygments_lexer": "ipython3",
   "version": "3.9.9"
  },
  "orig_nbformat": 4
 },
 "nbformat": 4,
 "nbformat_minor": 2
}
