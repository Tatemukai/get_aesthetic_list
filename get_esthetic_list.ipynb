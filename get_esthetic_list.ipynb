{
 "cells": [
  {
   "cell_type": "code",
   "execution_count": 98,
   "metadata": {},
   "outputs": [],
   "source": [
    "import gspread\n",
    "import pandas as pd\n",
    "\n",
    "import numpy as np\n",
    "import time\n",
    "import re\n",
    "import json\n",
    "import csv\n",
    "import math\n",
    "import pickle\n",
    "\n",
    "from gspread_dataframe import set_with_dataframe\n",
    "from selenium import webdriver\n",
    "from pandas import DataFrame as df\n",
    "\n",
    "from selenium.webdriver.common.keys import Keys\n",
    "from selenium.webdriver.common.action_chains import ActionChains\n",
    "from selenium.webdriver.support.select import Select\n",
    "from google.oauth2.service_account import Credentials\n",
    "from webdriver_manager.chrome import ChromeDriverManager\n"
   ]
  },
  {
   "cell_type": "code",
   "execution_count": 99,
   "metadata": {},
   "outputs": [],
   "source": [
    "with open('setting.json') as f:\n",
    "    df = json.load(f)\n",
    "    SPREADSHEET_KEY = df['KANAGAWA_SPREADSHEET_KEY']\n",
    "    SECRET_KEY_PATH = df['SECRET_KEY_PATH']\n",
    "\n",
    "scope = ['https://www.googleapis.com/auth/spreadsheets',\n",
    "            'https://www.googleapis.com/auth/drive']\n",
    "credentials = Credentials.from_service_account_file(\n",
    "    SECRET_KEY_PATH, scopes=scope)\n",
    "gc = gspread.authorize(credentials)\n",
    "workbook = gc.open_by_key(SPREADSHEET_KEY)"
   ]
  },
  {
   "cell_type": "code",
   "execution_count": 100,
   "metadata": {},
   "outputs": [
    {
     "name": "stderr",
     "output_type": "stream",
     "text": [
      "\n",
      "\n",
      "====== WebDriver manager ======\n",
      "Current google-chrome version is 102.0.5005\n",
      "Get LATEST chromedriver version for 102.0.5005 google-chrome\n",
      "Driver [/Users/tatemukaiyuki/.wdm/drivers/chromedriver/mac64/102.0.5005.61/chromedriver] found in cache\n"
     ]
    }
   ],
   "source": [
    "driver = webdriver.Chrome(ChromeDriverManager().install())\n"
   ]
  },
  {
   "cell_type": "code",
   "execution_count": 101,
   "metadata": {},
   "outputs": [],
   "source": [
    "def get_list(i):\n",
    "    URL =  'https://beauty.hotpepper.jp/esthe/svcSA/macAU/salon/PN'+ str(i) +'.html?searchGender=ALL'\n",
    "    print(URL + 'にアクセスしました')\n",
    "    driver.get(URL)\n",
    "    print( str(i) + \"ページ目\")\n",
    "    time.sleep(1)\n",
    "\n",
    "    href_list = []\n",
    "    title_list = []\n",
    "    \n",
    "    hedder_list = driver.find_elements_by_css_selector('.slcHeadContentsInner > h3 > a')\n",
    "    \n",
    "    for hedder in hedder_list:\n",
    "        href_list.append(hedder.get_attribute('href'))\n",
    "        title_list.append(hedder.text)\n",
    "        \n",
    "    return href_list,title_list"
   ]
  },
  {
   "cell_type": "code",
   "execution_count": 102,
   "metadata": {},
   "outputs": [],
   "source": [
    "def main():\n",
    "    url = 'https://beauty.hotpepper.jp/esthe/svcSA/macAU/salon/'\n",
    "    driver.get(url)\n",
    "\n",
    "    total_items = driver.find_element_by_css_selector('.numberOfResult').text\n",
    "    area_name = driver.find_element_by_css_selector('#mainContents > div.fgBbrown > h2 > span.fs14.n').text\n",
    "    \n",
    "    page_nums = math.ceil(int(total_items) / 20)\n",
    "    \n",
    "    print(total_items + '件取得します')\n",
    "    print(str(page_nums) + 'ページあります')\n",
    "    \n",
    "    df_list = []\n",
    "    for i in range(1, page_nums+1):\n",
    "        \n",
    "        href_list, title_list = get_list(i)\n",
    "        \n",
    "        df = pd.DataFrame({\n",
    "            '店名':title_list,\n",
    "            'URL':href_list\n",
    "        })\n",
    "        df_list.append(df)\n",
    "        \n",
    "    df_concat = pd.concat(df_list).reset_index(drop = True)\n",
    "    \n",
    "    #スプレッドシートに書く\n",
    "    \n",
    "    worksheet = workbook.add_worksheet(title=area_name, rows=1000, cols=20)\n",
    "    set_with_dataframe(worksheet, df_concat)\n",
    "    \n",
    "    driver.quit()\n",
    "    print('終了')"
   ]
  },
  {
   "cell_type": "code",
   "execution_count": 103,
   "metadata": {},
   "outputs": [
    {
     "name": "stdout",
     "output_type": "stream",
     "text": [
      "198件取得します\n",
      "10ページあります\n",
      "https://beauty.hotpepper.jp/esthe/svcSA/macAU/salon/PN1.html?searchGender=ALLにアクセスしました\n",
      "1ページ目\n",
      "https://beauty.hotpepper.jp/esthe/svcSA/macAU/salon/PN2.html?searchGender=ALLにアクセスしました\n",
      "2ページ目\n",
      "https://beauty.hotpepper.jp/esthe/svcSA/macAU/salon/PN3.html?searchGender=ALLにアクセスしました\n",
      "3ページ目\n",
      "https://beauty.hotpepper.jp/esthe/svcSA/macAU/salon/PN4.html?searchGender=ALLにアクセスしました\n",
      "4ページ目\n",
      "https://beauty.hotpepper.jp/esthe/svcSA/macAU/salon/PN5.html?searchGender=ALLにアクセスしました\n",
      "5ページ目\n",
      "https://beauty.hotpepper.jp/esthe/svcSA/macAU/salon/PN6.html?searchGender=ALLにアクセスしました\n",
      "6ページ目\n",
      "https://beauty.hotpepper.jp/esthe/svcSA/macAU/salon/PN7.html?searchGender=ALLにアクセスしました\n",
      "7ページ目\n",
      "https://beauty.hotpepper.jp/esthe/svcSA/macAU/salon/PN8.html?searchGender=ALLにアクセスしました\n",
      "8ページ目\n",
      "https://beauty.hotpepper.jp/esthe/svcSA/macAU/salon/PN9.html?searchGender=ALLにアクセスしました\n",
      "9ページ目\n",
      "https://beauty.hotpepper.jp/esthe/svcSA/macAU/salon/PN10.html?searchGender=ALLにアクセスしました\n",
      "10ページ目\n"
     ]
    },
    {
     "ename": "APIError",
     "evalue": "{'code': 400, 'message': 'Invalid requests[0].addSheet: A sheet with the name \"～横須賀・小田原のエステサロン～\" already exists. Please enter another name.', 'status': 'INVALID_ARGUMENT'}",
     "output_type": "error",
     "traceback": [
      "\u001b[0;31m---------------------------------------------------------------------------\u001b[0m",
      "\u001b[0;31mAPIError\u001b[0m                                  Traceback (most recent call last)",
      "\u001b[1;32m/Users/tatemukaiyuki/Python-PKB/首都圏エステリスト/get_esthetic_list.ipynb Cell 6'\u001b[0m in \u001b[0;36m<module>\u001b[0;34m\u001b[0m\n\u001b[0;32m----> <a href='vscode-notebook-cell:/Users/tatemukaiyuki/Python-PKB/%E9%A6%96%E9%83%BD%E5%9C%8F%E3%82%A8%E3%82%B9%E3%83%86%E3%83%AA%E3%82%B9%E3%83%88/get_esthetic_list.ipynb#ch0000017?line=0'>1</a>\u001b[0m main()\n",
      "\u001b[1;32m/Users/tatemukaiyuki/Python-PKB/首都圏エステリスト/get_esthetic_list.ipynb Cell 5'\u001b[0m in \u001b[0;36mmain\u001b[0;34m()\u001b[0m\n\u001b[1;32m     <a href='vscode-notebook-cell:/Users/tatemukaiyuki/Python-PKB/%E9%A6%96%E9%83%BD%E5%9C%8F%E3%82%A8%E3%82%B9%E3%83%86%E3%83%AA%E3%82%B9%E3%83%88/get_esthetic_list.ipynb#ch0000011?line=23'>24</a>\u001b[0m df_concat \u001b[39m=\u001b[39m pd\u001b[39m.\u001b[39mconcat(df_list)\u001b[39m.\u001b[39mreset_index(drop \u001b[39m=\u001b[39m \u001b[39mTrue\u001b[39;00m)\n\u001b[1;32m     <a href='vscode-notebook-cell:/Users/tatemukaiyuki/Python-PKB/%E9%A6%96%E9%83%BD%E5%9C%8F%E3%82%A8%E3%82%B9%E3%83%86%E3%83%AA%E3%82%B9%E3%83%88/get_esthetic_list.ipynb#ch0000011?line=25'>26</a>\u001b[0m \u001b[39m#スプレッドシートに書く\u001b[39;00m\n\u001b[0;32m---> <a href='vscode-notebook-cell:/Users/tatemukaiyuki/Python-PKB/%E9%A6%96%E9%83%BD%E5%9C%8F%E3%82%A8%E3%82%B9%E3%83%86%E3%83%AA%E3%82%B9%E3%83%88/get_esthetic_list.ipynb#ch0000011?line=27'>28</a>\u001b[0m worksheet \u001b[39m=\u001b[39m workbook\u001b[39m.\u001b[39;49madd_worksheet(title\u001b[39m=\u001b[39;49marea_name, rows\u001b[39m=\u001b[39;49m\u001b[39m1000\u001b[39;49m, cols\u001b[39m=\u001b[39;49m\u001b[39m20\u001b[39;49m)\n\u001b[1;32m     <a href='vscode-notebook-cell:/Users/tatemukaiyuki/Python-PKB/%E9%A6%96%E9%83%BD%E5%9C%8F%E3%82%A8%E3%82%B9%E3%83%86%E3%83%AA%E3%82%B9%E3%83%88/get_esthetic_list.ipynb#ch0000011?line=28'>29</a>\u001b[0m set_with_dataframe(worksheet, df_concat)\n\u001b[1;32m     <a href='vscode-notebook-cell:/Users/tatemukaiyuki/Python-PKB/%E9%A6%96%E9%83%BD%E5%9C%8F%E3%82%A8%E3%82%B9%E3%83%86%E3%83%AA%E3%82%B9%E3%83%88/get_esthetic_list.ipynb#ch0000011?line=30'>31</a>\u001b[0m driver\u001b[39m.\u001b[39mquit()\n",
      "File \u001b[0;32m/usr/local/lib/python3.9/site-packages/gspread/models.py:358\u001b[0m, in \u001b[0;36mSpreadsheet.add_worksheet\u001b[0;34m(self, title, rows, cols, index)\u001b[0m\n\u001b[1;32m    <a href='file:///usr/local/lib/python3.9/site-packages/gspread/models.py?line=354'>355</a>\u001b[0m \u001b[39mif\u001b[39;00m index \u001b[39mis\u001b[39;00m \u001b[39mnot\u001b[39;00m \u001b[39mNone\u001b[39;00m:\n\u001b[1;32m    <a href='file:///usr/local/lib/python3.9/site-packages/gspread/models.py?line=355'>356</a>\u001b[0m     body[\u001b[39m\"\u001b[39m\u001b[39mrequests\u001b[39m\u001b[39m\"\u001b[39m][\u001b[39m0\u001b[39m][\u001b[39m\"\u001b[39m\u001b[39maddSheet\u001b[39m\u001b[39m\"\u001b[39m][\u001b[39m\"\u001b[39m\u001b[39mproperties\u001b[39m\u001b[39m\"\u001b[39m][\u001b[39m\"\u001b[39m\u001b[39mindex\u001b[39m\u001b[39m\"\u001b[39m] \u001b[39m=\u001b[39m index\n\u001b[0;32m--> <a href='file:///usr/local/lib/python3.9/site-packages/gspread/models.py?line=357'>358</a>\u001b[0m data \u001b[39m=\u001b[39m \u001b[39mself\u001b[39;49m\u001b[39m.\u001b[39;49mbatch_update(body)\n\u001b[1;32m    <a href='file:///usr/local/lib/python3.9/site-packages/gspread/models.py?line=359'>360</a>\u001b[0m properties \u001b[39m=\u001b[39m data[\u001b[39m'\u001b[39m\u001b[39mreplies\u001b[39m\u001b[39m'\u001b[39m][\u001b[39m0\u001b[39m][\u001b[39m'\u001b[39m\u001b[39maddSheet\u001b[39m\u001b[39m'\u001b[39m][\u001b[39m'\u001b[39m\u001b[39mproperties\u001b[39m\u001b[39m'\u001b[39m]\n\u001b[1;32m    <a href='file:///usr/local/lib/python3.9/site-packages/gspread/models.py?line=361'>362</a>\u001b[0m worksheet \u001b[39m=\u001b[39m Worksheet(\u001b[39mself\u001b[39m, properties)\n",
      "File \u001b[0;32m/usr/local/lib/python3.9/site-packages/gspread/models.py:146\u001b[0m, in \u001b[0;36mSpreadsheet.batch_update\u001b[0;34m(self, body)\u001b[0m\n\u001b[1;32m    <a href='file:///usr/local/lib/python3.9/site-packages/gspread/models.py?line=136'>137</a>\u001b[0m \u001b[39mdef\u001b[39;00m \u001b[39mbatch_update\u001b[39m(\u001b[39mself\u001b[39m, body):\n\u001b[1;32m    <a href='file:///usr/local/lib/python3.9/site-packages/gspread/models.py?line=137'>138</a>\u001b[0m     \u001b[39m\"\"\"Lower-level method that directly calls `spreadsheets.batchUpdate <https://developers.google.com/sheets/api/reference/rest/v4/spreadsheets/batchUpdate>`_.\u001b[39;00m\n\u001b[1;32m    <a href='file:///usr/local/lib/python3.9/site-packages/gspread/models.py?line=138'>139</a>\u001b[0m \n\u001b[1;32m    <a href='file:///usr/local/lib/python3.9/site-packages/gspread/models.py?line=139'>140</a>\u001b[0m \u001b[39m    :param dict body: `Request body <https://developers.google.com/sheets/api/reference/rest/v4/spreadsheets/batchUpdate#request-body>`_.\u001b[39;00m\n\u001b[0;32m   (...)\u001b[0m\n\u001b[1;32m    <a href='file:///usr/local/lib/python3.9/site-packages/gspread/models.py?line=143'>144</a>\u001b[0m \u001b[39m    .. versionadded:: 3.0\u001b[39;00m\n\u001b[1;32m    <a href='file:///usr/local/lib/python3.9/site-packages/gspread/models.py?line=144'>145</a>\u001b[0m \u001b[39m    \"\"\"\u001b[39;00m\n\u001b[0;32m--> <a href='file:///usr/local/lib/python3.9/site-packages/gspread/models.py?line=145'>146</a>\u001b[0m     r \u001b[39m=\u001b[39m \u001b[39mself\u001b[39;49m\u001b[39m.\u001b[39;49mclient\u001b[39m.\u001b[39;49mrequest(\n\u001b[1;32m    <a href='file:///usr/local/lib/python3.9/site-packages/gspread/models.py?line=146'>147</a>\u001b[0m         \u001b[39m'\u001b[39;49m\u001b[39mpost\u001b[39;49m\u001b[39m'\u001b[39;49m, SPREADSHEET_BATCH_UPDATE_URL \u001b[39m%\u001b[39;49m \u001b[39mself\u001b[39;49m\u001b[39m.\u001b[39;49mid, json\u001b[39m=\u001b[39;49mbody\n\u001b[1;32m    <a href='file:///usr/local/lib/python3.9/site-packages/gspread/models.py?line=147'>148</a>\u001b[0m     )\n\u001b[1;32m    <a href='file:///usr/local/lib/python3.9/site-packages/gspread/models.py?line=149'>150</a>\u001b[0m     \u001b[39mreturn\u001b[39;00m r\u001b[39m.\u001b[39mjson()\n",
      "File \u001b[0;32m/usr/local/lib/python3.9/site-packages/gspread/client.py:76\u001b[0m, in \u001b[0;36mClient.request\u001b[0;34m(self, method, endpoint, params, data, json, files, headers)\u001b[0m\n\u001b[1;32m     <a href='file:///usr/local/lib/python3.9/site-packages/gspread/client.py?line=73'>74</a>\u001b[0m     \u001b[39mreturn\u001b[39;00m response\n\u001b[1;32m     <a href='file:///usr/local/lib/python3.9/site-packages/gspread/client.py?line=74'>75</a>\u001b[0m \u001b[39melse\u001b[39;00m:\n\u001b[0;32m---> <a href='file:///usr/local/lib/python3.9/site-packages/gspread/client.py?line=75'>76</a>\u001b[0m     \u001b[39mraise\u001b[39;00m APIError(response)\n",
      "\u001b[0;31mAPIError\u001b[0m: {'code': 400, 'message': 'Invalid requests[0].addSheet: A sheet with the name \"～横須賀・小田原のエステサロン～\" already exists. Please enter another name.', 'status': 'INVALID_ARGUMENT'}"
     ]
    }
   ],
   "source": [
    "main()"
   ]
  },
  {
   "cell_type": "code",
   "execution_count": 68,
   "metadata": {},
   "outputs": [],
   "source": []
  },
  {
   "cell_type": "code",
   "execution_count": 45,
   "metadata": {},
   "outputs": [],
   "source": [
    "df_list = []\n",
    "df_list.append(df)\n",
    "df_concat = pd.concat(df_list).reset_index(drop = True)"
   ]
  },
  {
   "cell_type": "code",
   "execution_count": 51,
   "metadata": {},
   "outputs": [],
   "source": [
    "area_name = driver.find_element_by_css_selector('#mainContents > div.fgBbrown > h2 > span.fs14.n').text"
   ]
  },
  {
   "cell_type": "code",
   "execution_count": 49,
   "metadata": {},
   "outputs": [],
   "source": [
    "with open('dataframe.pickle', 'wb') as f:\n",
    "    pickle.dump(df_concat, f)"
   ]
  },
  {
   "cell_type": "code",
   "execution_count": 75,
   "metadata": {},
   "outputs": [
    {
     "ename": "TypeError",
     "evalue": "add_worksheet() missing 2 required positional arguments: 'rows' and 'cols'",
     "output_type": "error",
     "traceback": [
      "\u001b[0;31m---------------------------------------------------------------------------\u001b[0m",
      "\u001b[0;31mTypeError\u001b[0m                                 Traceback (most recent call last)",
      "\u001b[1;32m/Users/tatemukaiyuki/Python-PKB/首都圏エステリスト/get_esthetic_list.ipynb Cell 11'\u001b[0m in \u001b[0;36m<module>\u001b[0;34m\u001b[0m\n\u001b[0;32m----> <a href='vscode-notebook-cell:/Users/tatemukaiyuki/Python-PKB/%E9%A6%96%E9%83%BD%E5%9C%8F%E3%82%A8%E3%82%B9%E3%83%86%E3%83%AA%E3%82%B9%E3%83%88/get_esthetic_list.ipynb#ch0000014?line=0'>1</a>\u001b[0m workbook\u001b[39m.\u001b[39;49madd_worksheet(title\u001b[39m=\u001b[39;49marea_name)\n",
      "\u001b[0;31mTypeError\u001b[0m: add_worksheet() missing 2 required positional arguments: 'rows' and 'cols'"
     ]
    }
   ],
   "source": [
    "workbook.add_worksheet(title=area_name)\n"
   ]
  },
  {
   "cell_type": "code",
   "execution_count": null,
   "metadata": {},
   "outputs": [],
   "source": []
  }
 ],
 "metadata": {
  "interpreter": {
   "hash": "aee8b7b246df8f9039afb4144a1f6fd8d2ca17a180786b69acc140d282b71a49"
  },
  "kernelspec": {
   "display_name": "Python 3.9.9 64-bit",
   "language": "python",
   "name": "python3"
  },
  "language_info": {
   "codemirror_mode": {
    "name": "ipython",
    "version": 3
   },
   "file_extension": ".py",
   "mimetype": "text/x-python",
   "name": "python",
   "nbconvert_exporter": "python",
   "pygments_lexer": "ipython3",
   "version": "3.9.9"
  },
  "orig_nbformat": 4
 },
 "nbformat": 4,
 "nbformat_minor": 2
}
