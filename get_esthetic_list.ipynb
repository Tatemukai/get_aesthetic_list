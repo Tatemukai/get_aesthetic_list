{
 "cells": [
  {
   "cell_type": "code",
   "execution_count": 82,
   "metadata": {},
   "outputs": [],
   "source": [
    "import gspread\n",
    "import pandas as pd\n",
    "\n",
    "import numpy as np\n",
    "import time\n",
    "import re\n",
    "import json\n",
    "import csv\n",
    "import math\n",
    "import pickle\n",
    "\n",
    "from gspread_dataframe import set_with_dataframe\n",
    "from selenium import webdriver\n",
    "from pandas import DataFrame as df\n",
    "\n",
    "from selenium.webdriver.common.keys import Keys\n",
    "from selenium.webdriver.common.action_chains import ActionChains\n",
    "from selenium.webdriver.support.select import Select\n",
    "from google.oauth2.service_account import Credentials\n",
    "from webdriver_manager.chrome import ChromeDriverManager\n"
   ]
  },
  {
   "cell_type": "code",
   "execution_count": 83,
   "metadata": {},
   "outputs": [],
   "source": [
    "with open('setting.json') as f:\n",
    "    df = json.load(f)\n",
    "    SPREADSHEET_KEY = df['KANAGAWA_SPREADSHEET_KEY']\n",
    "    SECRET_KEY_PATH = df['SECRET_KEY_PATH']\n",
    "\n",
    "scope = ['https://www.googleapis.com/auth/spreadsheets',\n",
    "            'https://www.googleapis.com/auth/drive']\n",
    "credentials = Credentials.from_service_account_file(\n",
    "    SECRET_KEY_PATH, scopes=scope)\n",
    "gc = gspread.authorize(credentials)\n",
    "workbook = gc.open_by_key(SPREADSHEET_KEY)"
   ]
  },
  {
   "cell_type": "code",
   "execution_count": 84,
   "metadata": {},
   "outputs": [
    {
     "name": "stderr",
     "output_type": "stream",
     "text": [
      "\n",
      "\n",
      "====== WebDriver manager ======\n",
      "Current google-chrome version is 102.0.5005\n",
      "Get LATEST chromedriver version for 102.0.5005 google-chrome\n",
      "Driver [/Users/tatemukaiyuki/.wdm/drivers/chromedriver/mac64/102.0.5005.61/chromedriver] found in cache\n"
     ]
    }
   ],
   "source": [
    "driver = webdriver.Chrome(ChromeDriverManager().install())\n"
   ]
  },
  {
   "cell_type": "code",
   "execution_count": 85,
   "metadata": {},
   "outputs": [],
   "source": [
    "def get_list(i):\n",
    "    URL =  'https://beauty.hotpepper.jp/esthe/svcSA/macJP/salon/PN'+ str(i) +'.html?searchGender=ALL'\n",
    "    driver.get(URL)\n",
    "    print( str(i) + \"ページ目\")\n",
    "\n",
    "    href_list = []\n",
    "    title_list = []\n",
    "    \n",
    "    hedder_list = driver.find_elements_by_css_selector('.slcHeadContentsInner > h3 > a')\n",
    "    \n",
    "    for hedder in hedder_list:\n",
    "        href_list.append(hedder.get_attribute('href'))\n",
    "        title_list.append(hedder.text)\n",
    "        \n",
    "    return href_list,title_list"
   ]
  },
  {
   "cell_type": "code",
   "execution_count": 86,
   "metadata": {},
   "outputs": [],
   "source": [
    "def main():\n",
    "    url = 'https://beauty.hotpepper.jp/esthe/svcSA/macAU/salon/'\n",
    "    driver.get(url)\n",
    "\n",
    "    total_items = driver.find_element_by_css_selector('.numberOfResult').text\n",
    "    area_name = driver.find_element_by_css_selector('#mainContents > div.fgBbrown > h2 > span.fs14.n').text\n",
    "    \n",
    "    page_nums = math.ceil(int(total_items) / 20)\n",
    "    \n",
    "    print(total_items + '件取得します')\n",
    "    print(str(page_nums) + 'ページあります')\n",
    "    \n",
    "    df_list = []\n",
    "    for i in range(1, page_nums+1):\n",
    "        \n",
    "        href_list, title_list = get_list(i)\n",
    "        \n",
    "        df = pd.DataFrame({\n",
    "            '店名':title_list,\n",
    "            'URL':href_list\n",
    "        })\n",
    "        df_list.append(df)\n",
    "        \n",
    "    df_concat = pd.concat(df_list).reset_index(drop = True)\n",
    "    \n",
    "    #スプレッドシートに書く\n",
    "    worksheet = workbook.add_worksheet(title=area_name, rows=1000, cols=20)\n",
    "    set_with_dataframe(worksheet, df_concat)\n",
    "    \n",
    "    driver.quit()\n",
    "    print('終了')"
   ]
  },
  {
   "cell_type": "code",
   "execution_count": 87,
   "metadata": {},
   "outputs": [
    {
     "name": "stdout",
     "output_type": "stream",
     "text": [
      "198件取得します\n",
      "10ページ\n",
      "2ページ目\n",
      "3ページ目\n",
      "4ページ目\n",
      "5ページ目\n",
      "6ページ目\n",
      "7ページ目\n",
      "8ページ目\n",
      "9ページ目\n",
      "10ページ目\n",
      "11ページ目\n",
      "終了\n"
     ]
    }
   ],
   "source": [
    "main()"
   ]
  },
  {
   "cell_type": "code",
   "execution_count": 68,
   "metadata": {},
   "outputs": [],
   "source": []
  },
  {
   "cell_type": "code",
   "execution_count": 45,
   "metadata": {},
   "outputs": [],
   "source": [
    "df_list = []\n",
    "df_list.append(df)\n",
    "df_concat = pd.concat(df_list).reset_index(drop = True)"
   ]
  },
  {
   "cell_type": "code",
   "execution_count": 51,
   "metadata": {},
   "outputs": [],
   "source": [
    "area_name = driver.find_element_by_css_selector('#mainContents > div.fgBbrown > h2 > span.fs14.n').text"
   ]
  },
  {
   "cell_type": "code",
   "execution_count": 49,
   "metadata": {},
   "outputs": [],
   "source": [
    "with open('dataframe.pickle', 'wb') as f:\n",
    "    pickle.dump(df_concat, f)"
   ]
  },
  {
   "cell_type": "code",
   "execution_count": 75,
   "metadata": {},
   "outputs": [
    {
     "ename": "TypeError",
     "evalue": "add_worksheet() missing 2 required positional arguments: 'rows' and 'cols'",
     "output_type": "error",
     "traceback": [
      "\u001b[0;31m---------------------------------------------------------------------------\u001b[0m",
      "\u001b[0;31mTypeError\u001b[0m                                 Traceback (most recent call last)",
      "\u001b[1;32m/Users/tatemukaiyuki/Python-PKB/首都圏エステリスト/get_esthetic_list.ipynb Cell 11'\u001b[0m in \u001b[0;36m<module>\u001b[0;34m\u001b[0m\n\u001b[0;32m----> <a href='vscode-notebook-cell:/Users/tatemukaiyuki/Python-PKB/%E9%A6%96%E9%83%BD%E5%9C%8F%E3%82%A8%E3%82%B9%E3%83%86%E3%83%AA%E3%82%B9%E3%83%88/get_esthetic_list.ipynb#ch0000014?line=0'>1</a>\u001b[0m workbook\u001b[39m.\u001b[39;49madd_worksheet(title\u001b[39m=\u001b[39;49marea_name)\n",
      "\u001b[0;31mTypeError\u001b[0m: add_worksheet() missing 2 required positional arguments: 'rows' and 'cols'"
     ]
    }
   ],
   "source": [
    "workbook.add_worksheet(title=area_name)\n"
   ]
  },
  {
   "cell_type": "code",
   "execution_count": null,
   "metadata": {},
   "outputs": [],
   "source": []
  }
 ],
 "metadata": {
  "interpreter": {
   "hash": "aee8b7b246df8f9039afb4144a1f6fd8d2ca17a180786b69acc140d282b71a49"
  },
  "kernelspec": {
   "display_name": "Python 3.9.9 64-bit",
   "language": "python",
   "name": "python3"
  },
  "language_info": {
   "codemirror_mode": {
    "name": "ipython",
    "version": 3
   },
   "file_extension": ".py",
   "mimetype": "text/x-python",
   "name": "python",
   "nbconvert_exporter": "python",
   "pygments_lexer": "ipython3",
   "version": "3.9.9"
  },
  "orig_nbformat": 4
 },
 "nbformat": 4,
 "nbformat_minor": 2
}
